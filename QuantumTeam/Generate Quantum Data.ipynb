{
 "cells": [
  {
   "cell_type": "code",
   "execution_count": 64,
   "id": "49cc74c6",
   "metadata": {},
   "outputs": [],
   "source": [
    "import numpy as np\n",
    "import math\n",
    "from math import e"
   ]
  },
  {
   "cell_type": "code",
   "execution_count": 27,
   "id": "7dde9aac",
   "metadata": {},
   "outputs": [],
   "source": [
    "# define Pauli matrices\n",
    "I = np.matrix([[1,0],[0,1]])\n",
    "X = np.matrix([[0,1],[1,0]])\n",
    "Y = np.matrix([[0,0-1j],[0+1j,0]])\n",
    "Z = np.matrix([[1,0],[0,-1]])"
   ]
  },
  {
   "cell_type": "code",
   "execution_count": 28,
   "id": "e07b4ef0",
   "metadata": {},
   "outputs": [],
   "source": [
    "# any linear combination of I,X,Y,Z\n",
    "def generate_combination(i,x,y,z):\n",
    "    return i*I+x*X+y*Y+z*Z"
   ]
  },
  {
   "cell_type": "code",
   "execution_count": 36,
   "id": "4504034c",
   "metadata": {},
   "outputs": [],
   "source": [
    "def check_unitary(A):\n",
    "    Adag = A.getH()\n",
    "    if not (np.array_equal(np.matmul(Adag,A),I) and np.array_equal(np.matmul(A,Adag),I)):\n",
    "        return False\n",
    "    return True"
   ]
  },
  {
   "cell_type": "code",
   "execution_count": 419,
   "id": "736648e8",
   "metadata": {},
   "outputs": [
    {
     "data": {
      "text/plain": [
       "'\\ndef generate_hamiltonian(alpha,beta,xi,zeta):\\n    first_mat = np.matrix([[math.cos(alpha),-math.sin(alpha)],[math.sin(alpha),math.cos(alpha)]])\\n    second_mat = np.matrix([[e**((xi)*1j),0],[0,e**((zeta)*1j)]])\\n    third_mat = np.matrix([[math.cos(beta),math.sin(beta)],[-math.sin(beta),math.cos(beta)]])\\n    return np.matmul(np.matmul(first_mat,second_mat),third_mat)\\n\\ndef generate_hamiltonian(x,y,z):\\n    return np.matmul(np.matmul(X**x,Y**y),Z**z)\\n'"
      ]
     },
     "execution_count": 419,
     "metadata": {},
     "output_type": "execute_result"
    }
   ],
   "source": [
    "def generate_hamiltonian(alpha,beta,gamma,delta):\n",
    "    term1 = e**((alpha-beta/2-delta/2)*1j)*math.cos(gamma/2)\n",
    "    term2 = e**((alpha-beta/2+delta/2)*1j)*math.sin(gamma/2)*(-1)\n",
    "    term3 = e**((alpha+beta/2-delta/2)*1j)*math.sin(gamma/2)\n",
    "    term4 = e**((alpha+beta/2+delta/2)*1j)*math.cos(gamma/2)\n",
    "    hamiltonian = np.matrix([[term1,term2],[term3,term4]])\n",
    "    # we verify that the hamiltonian is unitary, and if it isn't we return the identity\n",
    "    if check_unitary(hamiltonian):\n",
    "        return hamiltonian\n",
    "    else:\n",
    "        return I\n",
    "\n",
    "#below are other possible functions to generate unitary matrices, but they do not have as good success rates\n",
    "'''\n",
    "def generate_hamiltonian(alpha,beta,xi,zeta):\n",
    "    first_mat = np.matrix([[math.cos(alpha),-math.sin(alpha)],[math.sin(alpha),math.cos(alpha)]])\n",
    "    second_mat = np.matrix([[e**((xi)*1j),0],[0,e**((zeta)*1j)]])\n",
    "    third_mat = np.matrix([[math.cos(beta),math.sin(beta)],[-math.sin(beta),math.cos(beta)]])\n",
    "    return np.matmul(np.matmul(first_mat,second_mat),third_mat)\n",
    "\n",
    "def generate_hamiltonian(x,y,z):\n",
    "    return np.matmul(np.matmul(X**x,Y**y),Z**z)\n",
    "'''"
   ]
  },
  {
   "cell_type": "code",
   "execution_count": 420,
   "id": "865ba949",
   "metadata": {},
   "outputs": [],
   "source": [
    "# change values of alpha, beta, gamma, and delta to see what sort of unitary matrices we return\n",
    "a=1\n",
    "b=1\n",
    "c=1\n",
    "d=1\n",
    "A = generate_hamiltonian(a,b,c,d)"
   ]
  },
  {
   "cell_type": "code",
   "execution_count": 421,
   "id": "7b5972d7",
   "metadata": {},
   "outputs": [
    {
     "data": {
      "text/plain": [
       "True"
      ]
     },
     "execution_count": 421,
     "metadata": {},
     "output_type": "execute_result"
    }
   ],
   "source": [
    "# should always be true\n",
    "check_unitary(A)"
   ]
  },
  {
   "cell_type": "code",
   "execution_count": 422,
   "id": "461bb513",
   "metadata": {},
   "outputs": [
    {
     "data": {
      "text/plain": [
       "matrix([[ 0.87758256+0.j        , -0.25903472-0.40342268j],\n",
       "        [ 0.25903472+0.40342268j, -0.36520321+0.79798357j]])"
      ]
     },
     "execution_count": 422,
     "metadata": {},
     "output_type": "execute_result"
    }
   ],
   "source": [
    "# if A is identity, maybe try different values of alpha, beta, gamma, and delta\n",
    "A"
   ]
  },
  {
   "cell_type": "code",
   "execution_count": 423,
   "id": "e831f9fb",
   "metadata": {},
   "outputs": [],
   "source": [
    "# generate random 2 dimensional vector\n",
    "vec = np.random.rand(2)"
   ]
  },
  {
   "cell_type": "code",
   "execution_count": 424,
   "id": "ac21e6dc",
   "metadata": {},
   "outputs": [],
   "source": [
    "def get_magnitude(v):\n",
    "    return math.sqrt(v[0]**2+v[1]**2)"
   ]
  },
  {
   "cell_type": "code",
   "execution_count": 425,
   "id": "2d868e5a",
   "metadata": {},
   "outputs": [],
   "source": [
    "# change vector to have norm of 1\n",
    "vec = vec/get_magnitude(vec)"
   ]
  },
  {
   "cell_type": "code",
   "execution_count": 426,
   "id": "53b70d6f",
   "metadata": {},
   "outputs": [
    {
     "data": {
      "text/plain": [
       "array([0.281239  , 0.95963776])"
      ]
     },
     "execution_count": 426,
     "metadata": {},
     "output_type": "execute_result"
    }
   ],
   "source": [
    "vec"
   ]
  },
  {
   "cell_type": "code",
   "execution_count": 427,
   "id": "09d214a6",
   "metadata": {},
   "outputs": [
    {
     "data": {
      "text/plain": [
       "array([-0.00176906-0.38713964j, -0.27761212+0.87923335j])"
      ]
     },
     "execution_count": 427,
     "metadata": {},
     "output_type": "execute_result"
    }
   ],
   "source": [
    "# check first evolution of vector, compare to evolution matrix\n",
    "evolve(vec,A)"
   ]
  },
  {
   "cell_type": "code",
   "execution_count": 428,
   "id": "a5002dd8",
   "metadata": {},
   "outputs": [],
   "source": [
    "def evolve(v,A):\n",
    "    return np.matmul(A,v).A1"
   ]
  },
  {
   "cell_type": "code",
   "execution_count": 429,
   "id": "8cbe4817",
   "metadata": {},
   "outputs": [],
   "source": [
    "def generate_evolution_matrix(v,A,n):\n",
    "    evolution_matrix = np.array([v,evolve(v,A)])\n",
    "    v = evolve(evolve(v,A),A)\n",
    "    for i in range(0,n):\n",
    "        evolution_matrix = np.vstack( (evolution_matrix,np.array([v])) )\n",
    "        v = evolve(v,A)\n",
    "    return evolution_matrix"
   ]
  },
  {
   "cell_type": "code",
   "execution_count": 430,
   "id": "83a587a7",
   "metadata": {},
   "outputs": [
    {
     "data": {
      "text/plain": [
       "array([[ 0.281239  +0.j        ,  0.95963776+0.j        ],\n",
       "       [-0.00176906-0.38713964j, -0.27761212+0.87923335j],\n",
       "       [ 0.42506136-0.45550394j, -0.44450627-0.64362503j],\n",
       "       [ 0.22851606-0.05369717j,  0.96980358-0.06616671j],\n",
       "       [-0.07736425-0.42122498j, -0.22051918+0.87633075j],\n",
       "       [ 0.34276031-0.50769736j, -0.46887154-0.63633187j],\n",
       "       [ 0.16554377-0.09156088j,  0.97261921-0.1349953j ],\n",
       "       [-0.16112399-0.43776041j, -0.1676603 +0.86850153j],\n",
       "       [ 0.25240345-0.54150499j, -0.49695409-0.62936593j],\n",
       "       [ 0.09633274-0.11170516j,  0.96754955-0.20515806j],\n",
       "       [-0.24885441-0.43521887j, -0.11962152+0.85694032j],\n",
       "       [ 0.158305  -0.55565975j, -0.5290229 -0.62154367j],\n",
       "       [ 0.02521619-0.11321608j,  0.95435473-0.27523319j],\n",
       "       [-0.33611703-0.41306985j, -0.07669604+0.84292132j],\n",
       "       [ 0.06495007-0.54990787j, -0.56505196-0.61163642j],\n",
       "       [-0.04338088-0.09619971j,  0.93310423-0.34377349j],\n",
       "       [-0.41846272-0.37180932j, -0.03887507+0.82772913j],\n",
       "       [-0.02324089-0.52502088j, -0.604717  -0.59843987j],\n",
       "       [-0.10517732-0.0617759j ,  0.90417491-0.40937661j],\n",
       "       [-0.49166629-0.31293536j, -0.00585454+0.81258935j],\n",
       "       [-0.10214426-0.48275362j, -0.64740826-0.58084252j],\n",
       "       [-0.15626384-0.0120186j ,  0.86823321-0.47075286j],\n",
       "       [-0.55194936-0.23887094j,  0.02294231+0.79860267j],\n",
       "       [-0.16814955-0.42575025j, -0.69225851-0.55788943j],\n",
       "       [-0.19331137+0.05015453j,  0.82620235-0.52678734j],\n",
       "       [-0.59617975-0.15283782j,  0.04832806+0.7866859j ],\n",
       "       [-0.21834867-0.3574034j , -0.738185  -0.52883795j],\n",
       "       [-0.21374866+0.12113697j,  0.77921627-0.57659288j],\n",
       "       [-0.62203681-0.05868825j,  0.07130163+0.77752297j],\n",
       "       [-0.25068786-0.28167393j, -0.7839431 -0.4932024j ],\n",
       "       [-0.21589984+0.19682485j,  0.72856274-0.61955111j],\n",
       "       [-0.62813395+0.03929657j,  0.09298899+0.77152872j],\n",
       "       [-0.2640746 -0.20288061j, -0.82818875-0.45078538j],\n",
       "       [-0.19907466+0.27283471j,  0.67561866-0.65533955j],\n",
       "       [-0.61409198+0.13663079j,  0.11457713+0.76882712j],\n",
       "       [-0.25843357-0.12547114j, -0.86954645-0.40169398j],\n",
       "       [-0.16360654+0.34473617j,  0.62178098-0.68394319j],\n",
       "       [-0.5805593 +0.22885893j,  0.13724485+0.7692453j ],\n",
       "       [-0.2347089 -0.05378632j, -0.90667927-0.34634009j],\n",
       "       [-0.11083647+0.40828715j,  0.56839675-0.70565007j],\n",
       "       [-0.52917789+0.31178942j,  0.16209405+0.77232353j],\n",
       "       [-0.19481245+0.00816993j, -0.93835712-0.28542472j],\n",
       "       [-0.04304373+0.45965924j,  0.51669615-0.721031j  ],\n",
       "       [-0.46249693+0.38171406j,  0.19008502+0.77734075j],\n",
       "       [-0.14152097+0.05694275j, -0.96351968-0.21990717j],\n",
       "       [ 0.03667317+0.49564125j,  0.46773195-0.73090468j],\n",
       "       [-0.3838386 +0.43560214j,  0.22197942+0.78335422j],\n",
       "       [-0.07832758+0.08980936j, -0.9813307 -0.15096066j],\n",
       "       [ 0.12455885+0.51381024j,  0.42232855-0.73628984j],\n",
       "       [-0.2971231 +0.47125863j,  0.25829381+0.78925121j]])"
      ]
     },
     "execution_count": 430,
     "metadata": {},
     "output_type": "execute_result"
    }
   ],
   "source": [
    "generate_evolution_matrix(vec,A,48)"
   ]
  },
  {
   "cell_type": "code",
   "execution_count": null,
   "id": "43a6b518",
   "metadata": {},
   "outputs": [],
   "source": []
  }
 ],
 "metadata": {
  "kernelspec": {
   "display_name": "Python 3",
   "language": "python",
   "name": "python3"
  },
  "language_info": {
   "codemirror_mode": {
    "name": "ipython",
    "version": 3
   },
   "file_extension": ".py",
   "mimetype": "text/x-python",
   "name": "python",
   "nbconvert_exporter": "python",
   "pygments_lexer": "ipython3",
   "version": "3.9.4"
  }
 },
 "nbformat": 4,
 "nbformat_minor": 5
}
