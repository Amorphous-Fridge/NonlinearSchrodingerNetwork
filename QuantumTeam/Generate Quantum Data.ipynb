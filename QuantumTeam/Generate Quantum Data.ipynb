{
 "cells": [
  {
   "cell_type": "code",
   "execution_count": 46,
   "id": "49cc74c6",
   "metadata": {},
   "outputs": [],
   "source": [
    "import numpy as np\n",
    "import math\n",
    "from math import e\n",
    "import pandas as pd"
   ]
  },
  {
   "cell_type": "code",
   "execution_count": 27,
   "id": "7dde9aac",
   "metadata": {},
   "outputs": [],
   "source": [
    "# define Pauli matrices\n",
    "I = np.matrix([[1,0],[0,1]])\n",
    "X = np.matrix([[0,1],[1,0]])\n",
    "Y = np.matrix([[0,0-1j],[0+1j,0]])\n",
    "Z = np.matrix([[1,0],[0,-1]])"
   ]
  },
  {
   "cell_type": "code",
   "execution_count": 28,
   "id": "e07b4ef0",
   "metadata": {},
   "outputs": [],
   "source": [
    "# any linear combination of I,X,Y,Z\n",
    "def generate_combination(i,x,y,z):\n",
    "    return i*I+x*X+y*Y+z*Z"
   ]
  },
  {
   "cell_type": "code",
   "execution_count": 29,
   "id": "4504034c",
   "metadata": {},
   "outputs": [],
   "source": [
    "# function for checking whether or not matrix is unitary (all valid hamiltonians are unitary)\n",
    "def check_unitary(A):\n",
    "    Adag = A.getH()\n",
    "    if not (np.array_equal(np.matmul(Adag,A),I) and np.array_equal(np.matmul(A,Adag),I)):\n",
    "        return False\n",
    "    return True"
   ]
  },
  {
   "cell_type": "code",
   "execution_count": 30,
   "id": "736648e8",
   "metadata": {},
   "outputs": [
    {
     "data": {
      "text/plain": [
       "'\\ndef generate_hamiltonian(alpha,beta,xi,zeta):\\n    first_mat = np.matrix([[math.cos(alpha),-math.sin(alpha)],[math.sin(alpha),math.cos(alpha)]])\\n    second_mat = np.matrix([[e**((xi)*1j),0],[0,e**((zeta)*1j)]])\\n    third_mat = np.matrix([[math.cos(beta),math.sin(beta)],[-math.sin(beta),math.cos(beta)]])\\n    return np.matmul(np.matmul(first_mat,second_mat),third_mat)\\n\\ndef generate_hamiltonian(x,y,z):\\n    return np.matmul(np.matmul(X**x,Y**y),Z**z)\\n'"
      ]
     },
     "execution_count": 30,
     "metadata": {},
     "output_type": "execute_result"
    }
   ],
   "source": [
    "def generate_hamiltonian(alpha,beta,gamma,delta):\n",
    "    term1 = e**((alpha-beta/2-delta/2)*1j)*math.cos(gamma/2)\n",
    "    term2 = e**((alpha-beta/2+delta/2)*1j)*math.sin(gamma/2)*(-1)\n",
    "    term3 = e**((alpha+beta/2-delta/2)*1j)*math.sin(gamma/2)\n",
    "    term4 = e**((alpha+beta/2+delta/2)*1j)*math.cos(gamma/2)\n",
    "    hamiltonian = np.matrix([[term1,term2],[term3,term4]])\n",
    "    # we verify that the hamiltonian is unitary, and if it isn't we return the identity\n",
    "    if check_unitary(hamiltonian):\n",
    "        return hamiltonian\n",
    "    else:\n",
    "        return I\n",
    "\n",
    "#below are other possible functions to generate unitary matrices, but they do not have as good success rates\n",
    "'''\n",
    "def generate_hamiltonian(alpha,beta,xi,zeta):\n",
    "    first_mat = np.matrix([[math.cos(alpha),-math.sin(alpha)],[math.sin(alpha),math.cos(alpha)]])\n",
    "    second_mat = np.matrix([[e**((xi)*1j),0],[0,e**((zeta)*1j)]])\n",
    "    third_mat = np.matrix([[math.cos(beta),math.sin(beta)],[-math.sin(beta),math.cos(beta)]])\n",
    "    return np.matmul(np.matmul(first_mat,second_mat),third_mat)\n",
    "\n",
    "def generate_hamiltonian(x,y,z):\n",
    "    return np.matmul(np.matmul(X**x,Y**y),Z**z)\n",
    "'''"
   ]
  },
  {
   "cell_type": "code",
   "execution_count": 31,
   "id": "865ba949",
   "metadata": {},
   "outputs": [],
   "source": [
    "# change values of alpha, beta, gamma, and delta to see what sort of unitary matrices we return\n",
    "a=1\n",
    "b=1\n",
    "c=1\n",
    "d=1\n",
    "A = generate_hamiltonian(a,b,c,d)"
   ]
  },
  {
   "cell_type": "code",
   "execution_count": 32,
   "id": "7b5972d7",
   "metadata": {},
   "outputs": [
    {
     "data": {
      "text/plain": [
       "True"
      ]
     },
     "execution_count": 32,
     "metadata": {},
     "output_type": "execute_result"
    }
   ],
   "source": [
    "# should always be true\n",
    "check_unitary(A)"
   ]
  },
  {
   "cell_type": "code",
   "execution_count": 33,
   "id": "461bb513",
   "metadata": {},
   "outputs": [
    {
     "data": {
      "text/plain": [
       "matrix([[ 0.87758256+0.j        , -0.25903472-0.40342268j],\n",
       "        [ 0.25903472+0.40342268j, -0.36520321+0.79798357j]])"
      ]
     },
     "execution_count": 33,
     "metadata": {},
     "output_type": "execute_result"
    }
   ],
   "source": [
    "# if A is identity, maybe try different values of alpha, beta, gamma, and delta\n",
    "A"
   ]
  },
  {
   "cell_type": "code",
   "execution_count": 34,
   "id": "e831f9fb",
   "metadata": {},
   "outputs": [],
   "source": [
    "# generate random 2 dimensional vector\n",
    "vec = np.random.rand(2)"
   ]
  },
  {
   "cell_type": "code",
   "execution_count": 35,
   "id": "ac21e6dc",
   "metadata": {},
   "outputs": [],
   "source": [
    "def get_magnitude(v):\n",
    "    return math.sqrt(v[0]**2+v[1]**2)"
   ]
  },
  {
   "cell_type": "code",
   "execution_count": 36,
   "id": "2d868e5a",
   "metadata": {},
   "outputs": [],
   "source": [
    "# change vector to have norm of 1\n",
    "vec = vec/get_magnitude(vec)"
   ]
  },
  {
   "cell_type": "code",
   "execution_count": 39,
   "id": "a5002dd8",
   "metadata": {},
   "outputs": [],
   "source": [
    "def evolve(v,A):\n",
    "    return np.matmul(A,v).A1"
   ]
  },
  {
   "cell_type": "code",
   "execution_count": 55,
   "id": "8cbe4817",
   "metadata": {},
   "outputs": [],
   "source": [
    "# v is the inital state as a complex vector with two dimensions\n",
    "# A is the hamiltonian defining the evolution of the state\n",
    "# n is the number of evolutions, the number of state vectors in the returned evolution_matrix\n",
    "def generate_evolution_matrix(v,A,n):\n",
    "    evolution_matrix = np.array([v,evolve(v,A)])\n",
    "    v = evolve(evolve(v,A),A)\n",
    "    for i in range(0,n-2):\n",
    "        evolution_matrix = np.vstack( (evolution_matrix,np.array([v])) )\n",
    "        v = evolve(v,A)\n",
    "    return evolution_matrix"
   ]
  },
  {
   "cell_type": "code",
   "execution_count": 56,
   "id": "83a587a7",
   "metadata": {},
   "outputs": [],
   "source": [
    "evolution_matrix = generate_evolution_matrix(vec,A,1000)"
   ]
  },
  {
   "cell_type": "code",
   "execution_count": 57,
   "id": "0c14bd88",
   "metadata": {},
   "outputs": [],
   "source": [
    "split_evolution_matrix = np.zeros((evolution_matrix.shape[0],4))"
   ]
  },
  {
   "cell_type": "code",
   "execution_count": 58,
   "id": "5f3bf1de",
   "metadata": {},
   "outputs": [],
   "source": [
    "#extract real and imaginary parts out of evolution matrix\n",
    "for row in range(0,evolution_matrix.shape[0]):\n",
    "    split_evolution_matrix[row, 0] = np.real(evolution_matrix[row, 0])\n",
    "    split_evolution_matrix[row, 1] = np.imag(evolution_matrix[row, 0])\n",
    "    split_evolution_matrix[row, 2] = np.real(evolution_matrix[row, 1])\n",
    "    split_evolution_matrix[row, 3] = np.imag(evolution_matrix[row, 1])"
   ]
  },
  {
   "cell_type": "code",
   "execution_count": 59,
   "id": "264c48f7",
   "metadata": {},
   "outputs": [],
   "source": [
    "# export evolution matrix as csv\n",
    "mat_df = pd.DataFrame(split_evolution_matrix)\n",
    "mat_df.to_csv(\"evolution_data.csv\")"
   ]
  },
  {
   "cell_type": "code",
   "execution_count": null,
   "id": "6b38a385",
   "metadata": {},
   "outputs": [],
   "source": []
  }
 ],
 "metadata": {
  "kernelspec": {
   "display_name": "Python 3",
   "language": "python",
   "name": "python3"
  },
  "language_info": {
   "codemirror_mode": {
    "name": "ipython",
    "version": 3
   },
   "file_extension": ".py",
   "mimetype": "text/x-python",
   "name": "python",
   "nbconvert_exporter": "python",
   "pygments_lexer": "ipython3",
   "version": "3.9.4"
  }
 },
 "nbformat": 4,
 "nbformat_minor": 5
}
