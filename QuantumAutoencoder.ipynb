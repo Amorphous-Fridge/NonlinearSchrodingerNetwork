{
 "cells": [
  {
   "cell_type": "code",
   "execution_count": 1,
   "metadata": {},
   "outputs": [],
   "source": [
    "import matplotlib.pyplot as plt\n",
    "import tensorflow as tf\n",
    "import numpy as np\n",
    "import scipy\n",
    "import os\n",
    "\n",
    "#tf.config.set_visible_devices([], 'GPU') #set tensorflow to use CPU, not enough memory on gpu\n",
    "physical_devices = tf.config.list_physical_devices('GPU')\n",
    "tf.config.experimental.set_memory_growth(physical_devices[0], True)"
   ]
  },
  {
   "cell_type": "markdown",
   "metadata": {},
   "source": [
    "### PARAMETER SETUP\n",
    "\n",
    "- STATE_DIMENSION - The dimension of the original space.  Treating one complex dimension as two real dimensions\n",
    "- ANTIKOOPMAN_DIMENSION - The dimension of the reduced space.  Of form (dimension,) to keep tensorflow happy."
   ]
  },
  {
   "cell_type": "code",
   "execution_count": 2,
   "metadata": {},
   "outputs": [],
   "source": [
    "STATE_DIMENSION = 4    #Treating two complex dimensions as 4 real dimensions for now\n",
    "                          #Vector will be [real1, imag1, real2, imag2]\n",
    "ANTIKOOPMAN_DIMENSION = 2"
   ]
  },
  {
   "cell_type": "markdown",
   "metadata": {},
   "source": [
    "### DATA GENERATION\n",
    "\n",
    "Data will be valid states for our quantum system.  For the case of pure states on the Bloch sphere, these are 2 complex dimensional (4 real dimensional) vectors with an L2 norm of 1.\n",
    "\n",
    "For now, forming state $|\\alpha\\rangle =\\begin{bmatrix}x_1+iy_1\\\\ x_2+iy_2\\end{bmatrix}$ as the row vector $[x_1, y_1, x_2, y_2]$.  Could also try forming as 2x2 matrix $\\begin{bmatrix}x_1& y_1\\\\ x_2& y_2\\end{bmatrix}$.  Will likley be flattened when fed to the network though, so there is probably no difference in these methods, just how easy it is to read in the data."
   ]
  },
  {
   "cell_type": "code",
   "execution_count": 3,
   "metadata": {},
   "outputs": [],
   "source": [
    "def generate_pure_bloch(batch_size=16):\n",
    "    '''Generate random pure states on the bloch sphere.\n",
    "    These are two complex dimensional vectors with an L2 norm of 1.\n",
    "    Note that the state dimension of the Bloch sphere is always 4.\n",
    "    '''\n",
    "    bloch_state_dimension = 4\n",
    "    while True:\n",
    "        states = np.empty([batch_size, bloch_state_dimension])\n",
    "        for i in range(batch_size):\n",
    "            x1,y1,x2,y2 = np.random.random(4)\n",
    "            norm = np.sqrt(x1*x1 + y1*y1 + x2*x2 + y2*y2)\n",
    "            states[i] = 1/norm * np.array([x1,y1, x2,y2])\n",
    "        yield (states, states) #autoencoder, so data and label are the same thing\n",
    "        \n",
    "def generate_one_pure_bloch(batch_size=16):\n",
    "    '''Same as generate_pure_bloch, but not a generator and only\n",
    "    returns a single batch for easier testing (?)\n",
    "    '''\n",
    "    states = np.empty([batch_size, 4])\n",
    "    for i in range(batch_size):\n",
    "        x1,y1,x2,y2 = np.random.random(4)\n",
    "        norm = np.sqrt(x1*x1 + y1*y1 + x2*x2 + y2*y2)\n",
    "        states[i] = 1/norm * np.array([x1,y1, x2,y2])\n",
    "    return (states,states)"
   ]
  },
  {
   "cell_type": "code",
   "execution_count": 5,
   "metadata": {},
   "outputs": [],
   "source": [
    "initial_state = tf.keras.Input(shape = STATE_DIMENSION)\n",
    "antikoop_state = tf.keras.Input(shape = ANTIKOOPMAN_DIMENSION)\n",
    "\n",
    "encoding_layer_1 = tf.keras.layers.Dense(16, activation=\"relu\", name='encoding_layer_1')(initial_state)\n",
    "encoding_layer_2 = tf.keras.layers.Dense(64, activation=\"relu\", name='encoding_layer_2')(encoding_layer_1)\n",
    "encoding_layer_3 = tf.keras.layers.Dense(256, activation=\"relu\", name='encoding_layer_3')(encoding_layer_2)\n",
    "encoding_layer_4 = tf.keras.layers.Dense(64, activation=\"relu\", name='encoding_layer_4')(encoding_layer_3)\n",
    "encoding_layer_5 = tf.keras.layers.Dense(16, activation=\"relu\", name='encoding_layer_5')(encoding_layer_4)\n",
    "encoded_state = tf.keras.layers.Dense(ANTIKOOPMAN_DIMENSION, activation=\"relu\", name='bottleneck')(encoding_layer_5)\n",
    "\n",
    "\n",
    "#Try a U-net architecture? -nvm, won't be able to use U-net once we put the evolution function in\n",
    "decoding_layer_1 = tf.keras.layers.Dense(16, activation = \"relu\", name='decoding_layer_1')(antikoop_state)\n",
    "decoding_layer_2 = tf.keras.layers.Dense(64, activation = \"relu\", name='decoding_layer_2')(decoding_layer_1)\n",
    "decoding_layer_3 = tf.keras.layers.Dense(256, activation = \"relu\", name='decoding_layer_3')(decoding_layer_2)\n",
    "decoding_layer_4 = tf.keras.layers.Dense(64, activation = \"relu\", name='decoding_layer_4')(decoding_layer_3)\n",
    "decoding_layer_5 = tf.keras.layers.Dense(16, activation = \"relu\", name='decoding_layer_5')(decoding_layer_4)\n",
    "decoded_state = tf.keras.layers.Dense(STATE_DIMENSION, activation = \"relu\", name='decoded_layer')(decoding_layer_5)\n",
    "\n",
    "Phi = tf.keras.Model(inputs=initial_state, outputs = encoded_state, name='Phi')\n",
    "Phi_inv = tf.keras.Model(inputs = antikoop_state, outputs = decoded_state, name='Phi_inv')\n",
    "\n",
    "Autoencoder = tf.keras.models.Sequential([Phi, Phi_inv], name='Autoencoder')"
   ]
  },
  {
   "cell_type": "code",
   "execution_count": 6,
   "metadata": {},
   "outputs": [],
   "source": [
    "def autoencoding_loss(y_true, y_pred):\n",
    "    return tf.norm(y_true-y_pred, ord = 2)\n",
    "\n",
    "def learning_scheduler(epoch, lr):\n",
    "    if epoch < 100:\n",
    "        lr = .001\n",
    "    elif epoch < 200:\n",
    "        lr = .0001\n",
    "    elif epoch < 300:\n",
    "        lr = .00005\n",
    "    else:\n",
    "        lr = .00005 * tf.math.exp(-0.1)\n",
    "    return lr\n",
    "    \n",
    "learning_schedule = tf.keras.callbacks.LearningRateScheduler(learning_scheduler)\n",
    "\n",
    "\n",
    "def predict_single_state(state, encoder = Phi, decoder = Phi_inv):\n",
    "    '''b/c making a prediction for a single element\n",
    "    is really anoyying in tf/keras\n",
    "    '''\n",
    "    encoded = Phi(np.array([state,]))\n",
    "    decoded = Phi_inv(Phi(np.array([state,])))\n",
    "    return (state, encoded.numpy(), decoded.numpy())"
   ]
  },
  {
   "cell_type": "code",
   "execution_count": 7,
   "metadata": {},
   "outputs": [],
   "source": [
    "Autoencoder.compile(optimizer=tf.keras.optimizers.Adam(learning_rate = .001), loss=autoencoding_loss, metrics = ['mse', 'mae'])"
   ]
  },
  {
   "cell_type": "code",
   "execution_count": 8,
   "metadata": {},
   "outputs": [
    {
     "name": "stdout",
     "output_type": "stream",
     "text": [
      "Epoch 1/100\n",
      " 1/50 [..............................] - ETA: 0s - loss: 31.9937 - mse: 0.2499 - mae: 0.4434WARNING:tensorflow:Callbacks method `on_train_batch_end` is slow compared to the batch time (batch time: 0.0076s vs `on_train_batch_end` time: 0.0201s). Check your callbacks.\n",
      "50/50 [==============================] - 2s 43ms/step - loss: 22.9752 - mse: 0.1325 - mae: 0.2950\n",
      "Epoch 2/100\n",
      "50/50 [==============================] - 2s 37ms/step - loss: 20.1014 - mse: 0.0987 - mae: 0.2468\n",
      "Epoch 3/100\n",
      "50/50 [==============================] - 3s 51ms/step - loss: 19.9398 - mse: 0.0971 - mae: 0.2416\n",
      "Epoch 4/100\n",
      "50/50 [==============================] - 2s 33ms/step - loss: 18.9745 - mse: 0.0879 - mae: 0.2163\n",
      "Epoch 5/100\n",
      "50/50 [==============================] - 2s 33ms/step - loss: 18.3639 - mse: 0.0823 - mae: 0.2057\n",
      "Epoch 6/100\n",
      "50/50 [==============================] - 2s 41ms/step - loss: 17.8807 - mse: 0.0781 - mae: 0.1955\n",
      "Epoch 7/100\n",
      "50/50 [==============================] - 2s 49ms/step - loss: 17.6389 - mse: 0.0760 - mae: 0.1884\n",
      "Epoch 8/100\n",
      "50/50 [==============================] - 2s 38ms/step - loss: 16.7963 - mse: 0.0693 - mae: 0.1791\n",
      "Epoch 9/100\n",
      "50/50 [==============================] - 2s 43ms/step - loss: 9.9663 - mse: 0.0247 - mae: 0.1191\n",
      "Epoch 10/100\n",
      "50/50 [==============================] - 2s 42ms/step - loss: 7.0395 - mse: 0.0122 - mae: 0.0819\n",
      "Epoch 11/100\n",
      "50/50 [==============================] - 2s 43ms/step - loss: 5.9354 - mse: 0.0086 - mae: 0.0670\n",
      "Epoch 12/100\n",
      "50/50 [==============================] - 2s 36ms/step - loss: 5.6148 - mse: 0.0077 - mae: 0.0617\n",
      "Epoch 13/100\n",
      "50/50 [==============================] - 1s 25ms/step - loss: 5.3496 - mse: 0.0070 - mae: 0.0582\n",
      "Epoch 14/100\n",
      "50/50 [==============================] - 2s 40ms/step - loss: 5.1134 - mse: 0.0064 - mae: 0.0555\n",
      "Epoch 15/100\n",
      "50/50 [==============================] - 2s 36ms/step - loss: 4.9380 - mse: 0.0060 - mae: 0.0529\n",
      "Epoch 16/100\n",
      "50/50 [==============================] - 2s 32ms/step - loss: 5.1863 - mse: 0.0066 - mae: 0.0568\n",
      "Epoch 17/100\n",
      "50/50 [==============================] - 2s 44ms/step - loss: 5.7353 - mse: 0.0081 - mae: 0.0633\n",
      "Epoch 18/100\n",
      "50/50 [==============================] - 2s 38ms/step - loss: 4.8312 - mse: 0.0057 - mae: 0.0528\n",
      "Epoch 19/100\n",
      "50/50 [==============================] - 2s 42ms/step - loss: 4.6420 - mse: 0.0053 - mae: 0.0512\n",
      "Epoch 20/100\n",
      "50/50 [==============================] - 2s 32ms/step - loss: 4.5894 - mse: 0.0051 - mae: 0.0509\n",
      "Epoch 21/100\n",
      "50/50 [==============================] - 2s 42ms/step - loss: 4.9479 - mse: 0.0060 - mae: 0.0546\n",
      "Epoch 22/100\n",
      "50/50 [==============================] - 2s 30ms/step - loss: 4.4905 - mse: 0.0049 - mae: 0.0491\n",
      "Epoch 23/100\n",
      "50/50 [==============================] - 2s 44ms/step - loss: 5.0151 - mse: 0.0062 - mae: 0.0543\n",
      "Epoch 24/100\n",
      "50/50 [==============================] - 2s 39ms/step - loss: 4.3133 - mse: 0.0046 - mae: 0.0467\n",
      "Epoch 25/100\n",
      "50/50 [==============================] - 2s 31ms/step - loss: 4.4517 - mse: 0.0048 - mae: 0.0478\n",
      "Epoch 26/100\n",
      "50/50 [==============================] - 2s 39ms/step - loss: 4.1559 - mse: 0.0042 - mae: 0.0451\n",
      "Epoch 27/100\n",
      "50/50 [==============================] - 2s 36ms/step - loss: 4.0943 - mse: 0.0041 - mae: 0.0450\n",
      "Epoch 28/100\n",
      "50/50 [==============================] - 2s 30ms/step - loss: 3.9312 - mse: 0.0038 - mae: 0.0426\n",
      "Epoch 29/100\n",
      "50/50 [==============================] - 2s 38ms/step - loss: 4.6413 - mse: 0.0053 - mae: 0.0513\n",
      "Epoch 30/100\n",
      "50/50 [==============================] - 2s 35ms/step - loss: 4.2652 - mse: 0.0045 - mae: 0.0464\n",
      "Epoch 31/100\n",
      "50/50 [==============================] - 1s 28ms/step - loss: 4.1325 - mse: 0.0042 - mae: 0.0450\n",
      "Epoch 32/100\n",
      "50/50 [==============================] - 2s 36ms/step - loss: 4.4261 - mse: 0.0048 - mae: 0.0478\n",
      "Epoch 33/100\n",
      "50/50 [==============================] - 2s 38ms/step - loss: 4.3672 - mse: 0.0047 - mae: 0.0471\n",
      "Epoch 34/100\n",
      "50/50 [==============================] - 2s 32ms/step - loss: 4.6772 - mse: 0.0054 - mae: 0.0507\n",
      "Epoch 35/100\n",
      "50/50 [==============================] - 1s 29ms/step - loss: 4.5492 - mse: 0.0051 - mae: 0.0503\n",
      "Epoch 36/100\n",
      "50/50 [==============================] - 2s 33ms/step - loss: 4.3320 - mse: 0.0046 - mae: 0.0462\n",
      "Epoch 37/100\n",
      "50/50 [==============================] - 2s 47ms/step - loss: 4.3442 - mse: 0.0046 - mae: 0.0471\n",
      "Epoch 38/100\n",
      "50/50 [==============================] - 2s 40ms/step - loss: 4.4436 - mse: 0.0048 - mae: 0.0500\n",
      "Epoch 39/100\n",
      "50/50 [==============================] - 2s 34ms/step - loss: 4.4186 - mse: 0.0048 - mae: 0.0473: 0s - loss: 4.2784 - mse: 0.0045 -\n",
      "Epoch 40/100\n",
      "50/50 [==============================] - 2s 30ms/step - loss: 5.1230 - mse: 0.0064 - mae: 0.0535\n",
      "Epoch 41/100\n",
      "50/50 [==============================] - 2s 40ms/step - loss: 5.1726 - mse: 0.0066 - mae: 0.0542\n",
      "Epoch 42/100\n",
      "50/50 [==============================] - 2s 33ms/step - loss: 4.2559 - mse: 0.0044 - mae: 0.0463\n",
      "Epoch 43/100\n",
      "50/50 [==============================] - 2s 30ms/step - loss: 4.7734 - mse: 0.0056 - mae: 0.0542\n",
      "Epoch 44/100\n",
      "50/50 [==============================] - 1s 20ms/step - loss: 4.9822 - mse: 0.0061 - mae: 0.0565\n",
      "Epoch 45/100\n",
      "50/50 [==============================] - 1s 30ms/step - loss: 4.9250 - mse: 0.0059 - mae: 0.0552\n",
      "Epoch 46/100\n",
      "50/50 [==============================] - 2s 37ms/step - loss: 4.6694 - mse: 0.0054 - mae: 0.0522: 0s - loss: 4.7938 - mse: 0.0056 - ma\n",
      "Epoch 47/100\n",
      "50/50 [==============================] - 2s 37ms/step - loss: 4.5903 - mse: 0.0052 - mae: 0.0509\n",
      "Epoch 48/100\n",
      "50/50 [==============================] - 2s 30ms/step - loss: 4.7410 - mse: 0.0055 - mae: 0.0536\n",
      "Epoch 49/100\n",
      "50/50 [==============================] - 2s 35ms/step - loss: 4.5627 - mse: 0.0051 - mae: 0.0505\n",
      "Epoch 50/100\n",
      "50/50 [==============================] - 1s 28ms/step - loss: 4.3406 - mse: 0.0046 - mae: 0.0473\n",
      "Epoch 51/100\n",
      "50/50 [==============================] - 2s 34ms/step - loss: 4.2367 - mse: 0.0044 - mae: 0.0461\n",
      "Epoch 52/100\n",
      "50/50 [==============================] - 1s 29ms/step - loss: 4.2089 - mse: 0.0043 - mae: 0.0451\n",
      "Epoch 53/100\n",
      "50/50 [==============================] - 1s 30ms/step - loss: 4.1868 - mse: 0.0043 - mae: 0.0449: 0s - loss: 4.2037 - mse: 0.0043 - mae: \n",
      "Epoch 54/100\n",
      "50/50 [==============================] - 2s 35ms/step - loss: 4.3870 - mse: 0.0047 - mae: 0.0474\n",
      "Epoch 55/100\n",
      "50/50 [==============================] - 2s 38ms/step - loss: 4.2054 - mse: 0.0043 - mae: 0.0457\n",
      "Epoch 56/100\n",
      "50/50 [==============================] - 2s 41ms/step - loss: 4.0080 - mse: 0.0039 - mae: 0.0427\n",
      "Epoch 57/100\n",
      "50/50 [==============================] - 2s 39ms/step - loss: 4.2883 - mse: 0.0045 - mae: 0.0473: 0s - loss: 4.3149 - mse: 0.0046 - mae: 0\n",
      "Epoch 58/100\n",
      "50/50 [==============================] - 2s 31ms/step - loss: 4.0842 - mse: 0.0041 - mae: 0.0444\n",
      "Epoch 59/100\n",
      "50/50 [==============================] - 2s 31ms/step - loss: 4.0234 - mse: 0.0040 - mae: 0.0432\n",
      "Epoch 60/100\n",
      "50/50 [==============================] - 2s 41ms/step - loss: 3.9924 - mse: 0.0039 - mae: 0.0425: 1s - loss: 4.0475 - m\n",
      "Epoch 61/100\n",
      "50/50 [==============================] - 1s 29ms/step - loss: 4.1044 - mse: 0.0041 - mae: 0.0439\n",
      "Epoch 62/100\n",
      "50/50 [==============================] - 1s 24ms/step - loss: 4.4234 - mse: 0.0048 - mae: 0.0492\n",
      "Epoch 63/100\n",
      "50/50 [==============================] - 2s 36ms/step - loss: 4.2240 - mse: 0.0044 - mae: 0.0463\n",
      "Epoch 64/100\n",
      "50/50 [==============================] - 2s 33ms/step - loss: 3.9033 - mse: 0.0037 - mae: 0.0415\n",
      "Epoch 65/100\n",
      "50/50 [==============================] - 2s 34ms/step - loss: 4.0694 - mse: 0.0041 - mae: 0.0434\n",
      "Epoch 66/100\n",
      "50/50 [==============================] - 1s 26ms/step - loss: 4.0820 - mse: 0.0041 - mae: 0.0442\n",
      "Epoch 67/100\n",
      "50/50 [==============================] - 1s 29ms/step - loss: 3.7839 - mse: 0.0035 - mae: 0.0400\n",
      "Epoch 68/100\n",
      "50/50 [==============================] - 2s 39ms/step - loss: 3.9169 - mse: 0.0038 - mae: 0.0404\n",
      "Epoch 69/100\n",
      "50/50 [==============================] - 2s 34ms/step - loss: 4.0252 - mse: 0.0040 - mae: 0.0413\n",
      "Epoch 70/100\n",
      "50/50 [==============================] - 2s 34ms/step - loss: 4.1882 - mse: 0.0043 - mae: 0.0433\n",
      "Epoch 71/100\n",
      "50/50 [==============================] - 1s 29ms/step - loss: 3.8091 - mse: 0.0035 - mae: 0.0411\n",
      "Epoch 72/100\n",
      "50/50 [==============================] - 1s 30ms/step - loss: 3.8654 - mse: 0.0037 - mae: 0.0414\n",
      "Epoch 73/100\n",
      "50/50 [==============================] - 1s 25ms/step - loss: 3.7869 - mse: 0.0035 - mae: 0.0401\n",
      "Epoch 74/100\n",
      "50/50 [==============================] - 2s 38ms/step - loss: 3.8112 - mse: 0.0036 - mae: 0.0407\n",
      "Epoch 75/100\n",
      "50/50 [==============================] - 1s 26ms/step - loss: 4.2748 - mse: 0.0045 - mae: 0.0440\n",
      "Epoch 76/100\n",
      "50/50 [==============================] - 2s 30ms/step - loss: 4.0555 - mse: 0.0040 - mae: 0.0418\n",
      "Epoch 77/100\n",
      "50/50 [==============================] - 2s 40ms/step - loss: 3.8764 - mse: 0.0037 - mae: 0.0401\n",
      "Epoch 78/100\n",
      "50/50 [==============================] - 2s 33ms/step - loss: 3.7842 - mse: 0.0035 - mae: 0.0400\n",
      "Epoch 79/100\n",
      "50/50 [==============================] - 2s 35ms/step - loss: 3.6579 - mse: 0.0033 - mae: 0.0389\n",
      "Epoch 80/100\n",
      "50/50 [==============================] - 1s 30ms/step - loss: 3.6645 - mse: 0.0033 - mae: 0.0394\n",
      "Epoch 81/100\n",
      "50/50 [==============================] - 2s 30ms/step - loss: 3.6315 - mse: 0.0032 - mae: 0.0390\n",
      "Epoch 82/100\n",
      "50/50 [==============================] - 1s 30ms/step - loss: 3.9670 - mse: 0.0039 - mae: 0.0439: 2s - loss: 3.6145 - mse: \n",
      "Epoch 83/100\n",
      "50/50 [==============================] - 2s 31ms/step - loss: 4.0026 - mse: 0.0039 - mae: 0.0431\n",
      "Epoch 84/100\n",
      "50/50 [==============================] - 2s 42ms/step - loss: 4.4482 - mse: 0.0049 - mae: 0.0479\n",
      "Epoch 85/100\n",
      "50/50 [==============================] - 1s 25ms/step - loss: 4.3078 - mse: 0.0045 - mae: 0.0457\n",
      "Epoch 86/100\n",
      "50/50 [==============================] - 1s 26ms/step - loss: 4.5514 - mse: 0.0051 - mae: 0.0498\n",
      "Epoch 87/100\n",
      "50/50 [==============================] - 1s 27ms/step - loss: 4.8238 - mse: 0.0057 - mae: 0.0530\n",
      "Epoch 88/100\n",
      "50/50 [==============================] - 1s 26ms/step - loss: 4.5432 - mse: 0.0050 - mae: 0.0486\n",
      "Epoch 89/100\n",
      "50/50 [==============================] - 2s 32ms/step - loss: 3.9162 - mse: 0.0038 - mae: 0.0422\n",
      "Epoch 90/100\n",
      "50/50 [==============================] - 1s 30ms/step - loss: 3.8011 - mse: 0.0035 - mae: 0.0404\n",
      "Epoch 91/100\n",
      "50/50 [==============================] - 2s 41ms/step - loss: 4.1144 - mse: 0.0041 - mae: 0.0442\n",
      "Epoch 92/100\n",
      "50/50 [==============================] - 1s 27ms/step - loss: 3.8828 - mse: 0.0037 - mae: 0.0423\n",
      "Epoch 93/100\n",
      "50/50 [==============================] - 2s 36ms/step - loss: 3.7045 - mse: 0.0034 - mae: 0.0402: 0s - loss: 3.7127 - mse: 0.0034 - mae: 0.04\n",
      "Epoch 94/100\n",
      "50/50 [==============================] - 1s 24ms/step - loss: 3.6699 - mse: 0.0033 - mae: 0.0381\n",
      "Epoch 95/100\n",
      "50/50 [==============================] - 1s 28ms/step - loss: 3.6493 - mse: 0.0033 - mae: 0.0389\n",
      "Epoch 96/100\n",
      "50/50 [==============================] - 1s 24ms/step - loss: 3.7990 - mse: 0.0035 - mae: 0.0423\n",
      "Epoch 97/100\n",
      "50/50 [==============================] - 1s 29ms/step - loss: 3.9452 - mse: 0.0038 - mae: 0.0431\n",
      "Epoch 98/100\n",
      "50/50 [==============================] - 1s 26ms/step - loss: 3.6128 - mse: 0.0032 - mae: 0.0388\n",
      "Epoch 99/100\n",
      "50/50 [==============================] - 1s 28ms/step - loss: 3.3646 - mse: 0.0028 - mae: 0.0356\n",
      "Epoch 100/100\n",
      "50/50 [==============================] - 2s 33ms/step - loss: 3.4016 - mse: 0.0028 - mae: 0.0353\n"
     ]
    }
   ],
   "source": [
    "history = Autoencoder.fit(generate_pure_bloch(1024), steps_per_epoch=50,epochs=100)"
   ]
  },
  {
   "cell_type": "code",
   "execution_count": 8,
   "metadata": {},
   "outputs": [],
   "source": [
    "xt1, yt1, xt2, yt2 = np.random.random(4)\n",
    "testar = 1/np.sqrt(xt1*xt1 + xt2*xt2 + yt1*yt1 + yt2*yt2) * np.array([xt1,yt1,xt2,yt2])\n"
   ]
  },
  {
   "cell_type": "code",
   "execution_count": 49,
   "metadata": {},
   "outputs": [
    {
     "data": {
      "text/plain": [
       "(array([0.38584824, 0.77997634, 0.49100262, 0.04092027]),\n",
       " array([[0.779901 , 1.0641254]], dtype=float32),\n",
       " array([[0.38071486, 0.77979624, 0.481239  , 0.03151686]], dtype=float32))"
      ]
     },
     "execution_count": 49,
     "metadata": {},
     "output_type": "execute_result"
    }
   ],
   "source": [
    "predict_single_state(testar)"
   ]
  },
  {
   "cell_type": "code",
   "execution_count": 14,
   "metadata": {},
   "outputs": [],
   "source": [
    "from contextlib import redirect_stdout\n",
    "from datetime import date\n",
    "def write_history(history, model, loss = 'autoencoding_loss', optimizer='Adam', lr='.001',spe='50',sps='1024'):\n",
    "    rundatadir = './Autoencoder_Trials/'\n",
    "    filename = 'test'+str(len(os.listdir(rundatadir)))\n",
    "\n",
    "    with open(rundatadir+filename+'.data', 'w') as f:\n",
    "        f.write(str(date.today())+'\\n')\n",
    "        for key in history.history.keys():\n",
    "            f.write(key+',')\n",
    "            for epoch in range(history.params['epochs']):\n",
    "                f.write(str(history.history[key][epoch])+',')\n",
    "            f.write('\\n')\n",
    "        f.write(\"Loss:{}\\nOptimizer:{}\\nLearning Rate:{}\\nSteps Per Epoch:{}\\nStates Per Step:{}\\n\".format(loss,optimizer,lr,spe,sps))\n",
    "        f.write('\\n')\n",
    "        with redirect_stdout(f):\n",
    "            for i in model:              \n",
    "                i.summary()\n",
    "    return rundatadir+filename+'.data'"
   ]
  },
  {
   "cell_type": "code",
   "execution_count": 42,
   "metadata": {},
   "outputs": [
    {
     "data": {
      "text/plain": [
       "'./Autoencoder_Trials/test9.data'"
      ]
     },
     "execution_count": 42,
     "metadata": {},
     "output_type": "execute_result"
    }
   ],
   "source": [
    "write_history(history, [Phi, Phi_inv, Autoencoder])"
   ]
  },
  {
   "cell_type": "code",
   "execution_count": 43,
   "metadata": {},
   "outputs": [
    {
     "data": {
      "image/png": "[encoded data removed]",
      "text/plain": [
       "<Figure size 576x576 with 1 Axes>"
      ]
     },
     "metadata": {
      "needs_background": "light"
     },
     "output_type": "display_data"
    }
   ],
   "source": [
    "fig, ax = plt.subplots(1,1, figsize = (8,8))\n",
    "\n",
    "\n",
    "ax.plot(range(history.params['epochs']), history.history['loss'])\n",
    "ax.set_xlabel('Epoch')\n",
    "ax.set_ylabel('Loss')\n",
    "\n",
    "fig.savefig('./Autoencoder_Trials/test5.png')"
   ]
  },
  {
   "cell_type": "code",
   "execution_count": null,
   "metadata": {},
   "outputs": [],
   "source": []
  },
  {
   "cell_type": "code",
   "execution_count": null,
   "metadata": {},
   "outputs": [],
   "source": []
  }
 ],
 "metadata": {
  "kernelspec": {
   "display_name": "Python 3",
   "language": "python",
   "name": "python3"
  },
  "language_info": {
   "codemirror_mode": {
    "name": "ipython",
    "version": 3
   },
   "file_extension": ".py",
   "mimetype": "text/x-python",
   "name": "python",
   "nbconvert_exporter": "python",
   "pygments_lexer": "ipython3",
   "version": "3.8.6"
  }
 },
 "nbformat": 4,
 "nbformat_minor": 4
}
